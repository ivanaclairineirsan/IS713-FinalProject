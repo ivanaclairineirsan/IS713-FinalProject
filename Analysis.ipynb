{
 "cells": [
  {
   "cell_type": "code",
   "execution_count": 70,
   "id": "87a9cac2",
   "metadata": {},
   "outputs": [],
   "source": [
    "import numpy as np\n",
    "import pandas as pd\n",
    "from scipy.stats.mstats import winsorize\n",
    "from statsmodels.formula.api import ols\n",
    "from tabulate import tabulate"
   ]
  },
  {
   "cell_type": "code",
   "execution_count": 322,
   "id": "457c7a1b",
   "metadata": {},
   "outputs": [],
   "source": [
    "def load_material_price():\n",
    "    df = pd.read_excel('data/Construction_material_market_prices(1999-2024).xlsx', \n",
    "                      sheet_name='Price')\n",
    "    \n",
    "    used_cols = []\n",
    "    cols = list(df.columns)\n",
    "    \n",
    "    for col in cols:\n",
    "        if 'Data Series' not in col:\n",
    "            used_cols.append(col)\n",
    "            \n",
    "    df = df.melt(id_vars=['Data Series'],\n",
    "    value_vars=used_cols,\n",
    "    var_name='Time', value_name='Price')\n",
    "    \n",
    "    df['year'] = df['Time'].apply(lambda x: int(x.split()[0]))\n",
    "    df = df.groupby(['Data Series', 'year']).Price.mean().reset_index()\n",
    "    df = df.rename(columns={'Data Series': 'material'})\n",
    "    \n",
    "    df = pd.pivot_table(df, values = 'Price', index=['year'], columns = 'material').reset_index()\n",
    "    \n",
    "    df = df.rename(columns={'Cement In Bulk (Ordinary Portland Cement) (Dollar Per Tonne)': 'cement',\n",
    "                           'Concreting Sand (Dollar Per Tonne)': 'concreting_sand',\n",
    "                           'Granite (20mm Aggregate) (Dollar Per Tonne)': 'granite',\n",
    "                           'Ready Mixed Concrete (Dollar Per Cubic Metre)': 'mixed_concrete',\n",
    "                           'Steel Reinforcement Bars (16-32mm High Tensile) (Dollar Per Tonne)': 'steel'})\n",
    "    return df"
   ]
  },
  {
   "cell_type": "code",
   "execution_count": 323,
   "id": "e163df04",
   "metadata": {},
   "outputs": [],
   "source": [
    "def load_hdb_resale_price():\n",
    "    used_columns = ['year','town', 'covid','flat_type', 'floor_area_sqm', 'flat_model', 'lease_commence_date', 'resale_price']\n",
    "    df1 = pd.read_csv('data/ResaleFlatPricesBasedonRegistrationDateFromJan2015toDec2016.csv')\n",
    "    df2 = pd.read_csv('data/ResaleflatpricesbasedonregistrationdatefromJan2017onwards.csv')\n",
    "    df = pd.concat([df1, df2])\n",
    "    df['year'] = df['month'].apply(lambda x: int(x.split('-')[0]))\n",
    "    df['month'] = df['month'].apply(lambda x: int(x.split('-')[-1]))\n",
    "    df['flat_type'] = df['flat_type'].apply(lambda x: x.lower())\n",
    "    df['town'] = df['town'].apply(lambda x: x.lower())\n",
    "    df['covid'] = df.apply(lambda x: 1 if x['year']>=2020 and x['month']>4 else 0, axis=1)\n",
    "    return df[used_columns]\n",
    "\n",
    "def load_hdb_rental_price():\n",
    "    hdb_rental_price = pd.read_excel('data/HDB Rental Price (from 2007-3qtr to 2023-3qtr).xlsx')\n",
    "    hdb_rental_price.columns = hdb_rental_price.iloc[0]\n",
    "    hdb_rental_price = hdb_rental_price[1:]\n",
    "    del hdb_rental_price[hdb_rental_price.columns[0]]\n",
    "      \n",
    "    hdb_rental_price = hdb_rental_price.melt(\n",
    "    id_vars=['Town', 'Year '],\n",
    "    value_vars=['1-Room', '2-Room', '3-Room', '4-Room','5-Room', 'Executive'],\n",
    "    var_name='Room Type', value_name='Price')\n",
    "    \n",
    "    hdb_rental_price = hdb_rental_price[(hdb_rental_price['Price'] != '-') & (hdb_rental_price['Price'] != '*')]\n",
    "    hdb_rental_price['Room Type'] = hdb_rental_price['Room Type'].apply(lambda x: x.replace('-', ' ').lower())\n",
    "    hdb_rental_price = hdb_rental_price.rename(columns={'Year ': 'Year'})\n",
    "    hdb_rental_price['Price'] = hdb_rental_price['Price'].apply(lambda x: int(x.replace('$', '').replace('.','').replace(',','')))\n",
    "    hdb_rental_price['Town'] = hdb_rental_price['Town'].apply(lambda x: x.lower())\n",
    "    \n",
    "    df = hdb_rental_price.groupby(['Town','Year', 'Room Type']).mean()\n",
    "    df = df.reset_index()\n",
    "    \n",
    "    return df[df['Year']>=2015]\n",
    "\n",
    "def combine_rental_and_resale_price():\n",
    "#   central defined by MRT station. If it could reach central area within 3 stops, we considered it central area\n",
    "    central = ['bukit merah', 'geylang', 'queenstown', 'toa payoh']   \n",
    "    \n",
    "    resale = load_hdb_resale_price()\n",
    "    rental = load_hdb_rental_price()\n",
    "    \n",
    "    combined_df = resale.merge(rental, left_on=['year', 'town', 'flat_type'], right_on=['Year', 'Town', 'Room Type'])\n",
    "    \n",
    "    used_columns=list(resale.columns)\n",
    "    used_columns.append('rental_price')\n",
    "    combined_df = combined_df.rename(columns={'Price': 'rental_price'})\n",
    "    combined_df = combined_df[used_columns]\n",
    "    \n",
    "    combined_df['central_marker'] = combined_df['town'].apply(lambda x: 1 if x in central else 0)\n",
    "    return combined_df"
   ]
  },
  {
   "cell_type": "code",
   "execution_count": 324,
   "id": "c2871d57",
   "metadata": {},
   "outputs": [],
   "source": [
    "hdb_resale_price = load_hdb_resale_price()\n",
    "hdb_rental_price = load_hdb_rental_price()\n",
    "material_price = load_material_price()\n",
    "df = combine_rental_and_resale_price()\n",
    "\n",
    "# combine with material price\n",
    "df = df.merge(material_price, left_on=['year'], right_on=['year'])"
   ]
  },
  {
   "cell_type": "code",
   "execution_count": 343,
   "id": "eaf4f244",
   "metadata": {},
   "outputs": [],
   "source": [
    "# res = ols('resale_price ~ covid + town + flat_type + floor_area_sqm + cement + concreting_sand + granite', data=df).fit()\n",
    "res = ols('resale_price ~ covid + central_marker + flat_type + rental_price + cement + concreting_sand + granite + steel', data=df).fit()\n",
    "with open('summary_all.txt', 'w') as fh:\n",
    "    fh.write(res.summary().as_text())"
   ]
  },
  {
   "cell_type": "code",
   "execution_count": 344,
   "id": "1f78c7ef",
   "metadata": {},
   "outputs": [],
   "source": [
    "df_central = df[df['central_marker']==1]\n",
    "res = ols('resale_price ~ covid + central_marker + flat_type + rental_price + cement + concreting_sand + granite + steel', data=df_central).fit()\n",
    "with open('summary_central.txt', 'w') as fh:\n",
    "    fh.write(res.summary().as_text())"
   ]
  },
  {
   "cell_type": "code",
   "execution_count": 345,
   "id": "47fb944f",
   "metadata": {},
   "outputs": [],
   "source": [
    "df_non_central = df[df['central_marker']==0]\n",
    "res = ols('resale_price ~ covid + central_marker + flat_type + rental_price + cement + concreting_sand + granite + steel', data=df_non_central).fit()\n",
    "with open('summary_non_central.txt', 'w') as fh:\n",
    "    fh.write(res.summary().as_text())"
   ]
  },
  {
   "cell_type": "code",
   "execution_count": null,
   "id": "349d1fba",
   "metadata": {},
   "outputs": [],
   "source": []
  }
 ],
 "metadata": {
  "kernelspec": {
   "display_name": "Python 3 (ipykernel)",
   "language": "python",
   "name": "python3"
  },
  "language_info": {
   "codemirror_mode": {
    "name": "ipython",
    "version": 3
   },
   "file_extension": ".py",
   "mimetype": "text/x-python",
   "name": "python",
   "nbconvert_exporter": "python",
   "pygments_lexer": "ipython3",
   "version": "3.9.12"
  }
 },
 "nbformat": 4,
 "nbformat_minor": 5
}
